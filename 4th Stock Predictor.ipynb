{
 "cells": [
  {
   "cell_type": "code",
   "execution_count": null,
   "id": "87624599",
   "metadata": {},
   "outputs": [
    {
     "ename": "",
     "evalue": "",
     "output_type": "error",
     "traceback": [
      "\u001b[1;31mThe kernel failed to start as the Python Environment '.venv (Python 3.12.4)' is no longer available. Consider selecting another kernel or refreshing the list of Python Environments."
     ]
    }
   ],
   "source": [
    "import numpy as np\n",
    "import pandas as pd\n",
    "import matplotlib as plt\n",
    "import torch \n",
    "import torch.nn as nn\n",
    "import yfinance as yf\n",
    "import keras \n",
    "import os\n",
    "import tensorflow\n",
    "import datetime \n",
    "from sklearn.preprocessing import MinMaxScaler\n",
    "from keras.models import Sequential\n",
    "from keras.layers import LSTM\n",
    "from keras.layers import Dropout\n",
    "from keras.layers import Dense\n",
    "from keras.layers import TimeDistributed\n",
    "from keras.layers import Activation\n",
    "from keras import optimizers\n",
    "from keras.models import Model\n",
    "from keras.layers import Input\n",
    "from tensorflow.keras.models import Sequential\n",
    "from tensorflow.keras.layers import *\n",
    "from tensorflow.keras.callbacks import ModelCheckpoint\n",
    "from tensorflow.keras.losses import MeanSquaredError\n",
    "from tensorflow.keras.metrics import RootMeanSquaredError\n",
    "from tensorflow.keras.optimizers import Adam"
   ]
  },
  {
   "cell_type": "code",
   "execution_count": null,
   "id": "de5d1921",
   "metadata": {},
   "outputs": [
    {
     "ename": "",
     "evalue": "",
     "output_type": "error",
     "traceback": [
      "\u001b[1;31mThe kernel failed to start as the Python Environment '.venv (Python 3.12.4)' is no longer available. Consider selecting another kernel or refreshing the list of Python Environments."
     ]
    }
   ],
   "source": [
    "def TickerIntoTensor(ticker='aapl',daysago=100,daysforward=10,split_percentage=0.9):\n",
    "    df = yf.Ticker(ticker.upper())\n",
    "    df = df.history(period='max')\n",
    "    if df.shape[1] == 7:\n",
    "        df = df.drop(columns=['Dividends','Stock Splits'])\n",
    "    df = df.drop(columns=['Open','High','Low','Volume'])\n",
    "    for i in range(daysago,-daysforward-1,-1):\n",
    "        df['{}daysago'.format(i)] = df['Close'].shift(i)\n",
    "        df = df.copy()\n",
    "    df = df.drop(columns=['Close'])\n",
    "    df = df.drop(index=df.tail(daysforward).index)\n",
    "    df = df.drop(index=df.head(daysago).index)\n",
    "    sc = MinMaxScaler(feature_range=(0,1))\n",
    "    df_scaled = sc.fit_transform(df)\n",
    "    X,Y = df_scaled[:,:daysago+1],df_scaled[:,-daysforward:]\n",
    "    split = int(len(X)*split_percentage)\n",
    "    X_train, X_test, Y_train, Y_test = X[:split], X[split:], Y[:split], Y[split:]\n",
    "    X_train, X_test, Y_train, Y_test = X_train.reshape((-1,daysago+1,1)), X_test.reshape((-1,daysago+1,1)), Y_train.reshape((-1,daysforward,1)), Y_test.reshape((-1,daysforward,1))\n",
    "    #X_train, X_test, Y_train, Y_test = torch.tensor(X_train).float(), torch.tensor(X_test).float(), torch.tensor(Y_train).float(), torch.tensor(Y_test).float()\n",
    "    return X_train, X_test, Y_train, Y_test\n",
    "TickerIntoTensor()"
   ]
  },
  {
   "cell_type": "code",
   "execution_count": null,
   "id": "a6568f76",
   "metadata": {
    "scrolled": true
   },
   "outputs": [
    {
     "ename": "",
     "evalue": "",
     "output_type": "error",
     "traceback": [
      "\u001b[1;31mThe kernel failed to start as the Python Environment '.venv (Python 3.12.4)' is no longer available. Consider selecting another kernel or refreshing the list of Python Environments."
     ]
    }
   ],
   "source": [
    "ticker='aapl'\n",
    "daysago=100\n",
    "daysforward=1\n",
    "split_percentage=0.9\n",
    "df = yf.Ticker(ticker.upper())\n",
    "df = df.history(period='max')\n",
    "if df.shape[1] == 7:\n",
    "    df = df.drop(columns=['Dividends','Stock Splits'])\n",
    "df = df.drop(columns=['Open','High','Low','Volume'])\n",
    "for i in range(daysago,-daysforward-1,-1):\n",
    "    df['{}daysago'.format(i)] = df['Close'].shift(i)\n",
    "    df = df.copy()\n",
    "df = df.drop(columns=['Close'])\n",
    "df = df.drop(index=df.tail(daysforward).index)\n",
    "df = df.drop(index=df.head(daysago).index)\n",
    "print(df.shape[1] == daysago+1+daysforward)\n",
    "sc = MinMaxScaler(feature_range=(0,1))\n",
    "df_scaled = sc.fit_transform(df)\n",
    "X,Y = df_scaled[:,:daysago+1],df_scaled[:,-daysforward:]\n",
    "print(Y.shape)\n",
    "split = int(len(X)*split_percentage)\n",
    "X_train, X_test, Y_train, Y_test = X[:split], X[split:], Y[:split], Y[split:]\n",
    "X_train, X_test, Y_train, Y_test = X_train.reshape((-1,daysago+1,1)), X_test.reshape((-1,daysago+1,1)), Y_train.reshape((-1,daysforward,1)), Y_test.reshape((-1,daysforward,1))\n",
    "\n",
    "print(Y_train.shape)"
   ]
  },
  {
   "cell_type": "code",
   "execution_count": null,
   "id": "279fd21d",
   "metadata": {},
   "outputs": [
    {
     "ename": "",
     "evalue": "",
     "output_type": "error",
     "traceback": [
      "\u001b[1;31mThe kernel failed to start as the Python Environment '.venv (Python 3.12.4)' is no longer available. Consider selecting another kernel or refreshing the list of Python Environments."
     ]
    }
   ],
   "source": [
    "model1 = Sequential()\n",
    "model1.add(InputLayer((101, 1)))\n",
    "model1.add(LSTM(500))\n",
    "model1.add(Dense(150, 'sigmoid'))\n",
    "model1.add(Dense(1, 'linear'))\n",
    "\n",
    "cp1 = ModelCheckpoint('model/.keras', save_best_only=True)\n",
    "model1.compile(loss=MeanSquaredError(), optimizer=Adam(learning_rate=0.01), metrics=[RootMeanSquaredError()])\n",
    "model1.fit(X_train, Y_train, validation_data=(X_test, Y_test), epochs=10, callbacks=[cp1])"
   ]
  },
  {
   "cell_type": "code",
   "execution_count": null,
   "id": "9f8ba6ad",
   "metadata": {},
   "outputs": [
    {
     "ename": "",
     "evalue": "",
     "output_type": "error",
     "traceback": [
      "\u001b[1;31mThe kernel failed to start as the Python Environment '.venv (Python 3.12.4)' is no longer available. Consider selecting another kernel or refreshing the list of Python Environments."
     ]
    }
   ],
   "source": [
    "from tensorflow.keras.models import load_model\n",
    "model1 = load_model('model/.keras')\n",
    "y_pred = model1.predict(TickerIntoTensor('goog')[1])\n",
    "Y_test = TickerIntoTensor('goog')[3].reshape(-1,10)\n",
    "avg_error = (np.sum(np.sqrt((Y_test - y_pred)**2)))/len(Y_test)*100\n",
    "\n",
    "print(avg_error)\n",
    "avg_error = (np.sum(y_pred - Y_test))/len(Y_test)*100\n",
    "print(avg_error)"
   ]
  },
  {
   "cell_type": "code",
   "execution_count": null,
   "id": "6ede1541",
   "metadata": {
    "scrolled": true
   },
   "outputs": [
    {
     "ename": "",
     "evalue": "",
     "output_type": "error",
     "traceback": [
      "\u001b[1;31mThe kernel failed to start as the Python Environment '.venv (Python 3.12.4)' is no longer available. Consider selecting another kernel or refreshing the list of Python Environments."
     ]
    }
   ],
   "source": [
    "y_pred,Y_test = pd.DataFrame(y_pred),pd.DataFrame(Y_test)\n",
    "for i in range(0,y_pred.shape[1]): \n",
    "    oneday= pd.concat([y_pred[i],Y_test[i]],axis=1)\n",
    "    oneday.plot(figsize=(16,8),color = ('black','green'))\n",
    "    "
   ]
  },
  {
   "cell_type": "code",
   "execution_count": null,
   "id": "6e572d31",
   "metadata": {},
   "outputs": [
    {
     "ename": "",
     "evalue": "",
     "output_type": "error",
     "traceback": [
      "\u001b[1;31mThe kernel failed to start as the Python Environment '.venv (Python 3.12.4)' is no longer available. Consider selecting another kernel or refreshing the list of Python Environments."
     ]
    }
   ],
   "source": [
    "model1.summary()"
   ]
  }
 ],
 "metadata": {
  "kernelspec": {
   "display_name": ".venv",
   "language": "python",
   "name": "python3"
  },
  "language_info": {
   "codemirror_mode": {
    "name": "ipython",
    "version": 3
   },
   "file_extension": ".py",
   "mimetype": "text/x-python",
   "name": "python",
   "nbconvert_exporter": "python",
   "pygments_lexer": "ipython3",
   "version": "3.12.4"
  }
 },
 "nbformat": 4,
 "nbformat_minor": 5
}
