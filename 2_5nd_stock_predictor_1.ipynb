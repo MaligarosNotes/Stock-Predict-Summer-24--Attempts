{
 "cells": [
  {
   "cell_type": "code",
   "execution_count": 1,
   "id": "b29811c3",
   "metadata": {
    "colab": {
     "base_uri": "https://localhost:8080/",
     "height": 411
    },
    "id": "b29811c3",
    "outputId": "c777b2fc-05b7-47c9-e0d8-96706837fb98"
   },
   "outputs": [
    {
     "name": "stderr",
     "output_type": "stream",
     "text": [
      "[*********************100%%**********************]  1 of 1 completed\n"
     ]
    },
    {
     "data": {
      "text/html": [
       "<div>\n",
       "<style scoped>\n",
       "    .dataframe tbody tr th:only-of-type {\n",
       "        vertical-align: middle;\n",
       "    }\n",
       "\n",
       "    .dataframe tbody tr th {\n",
       "        vertical-align: top;\n",
       "    }\n",
       "\n",
       "    .dataframe thead th {\n",
       "        text-align: right;\n",
       "    }\n",
       "</style>\n",
       "<table border=\"1\" class=\"dataframe\">\n",
       "  <thead>\n",
       "    <tr style=\"text-align: right;\">\n",
       "      <th></th>\n",
       "      <th>Open</th>\n",
       "      <th>High</th>\n",
       "      <th>Low</th>\n",
       "      <th>Close</th>\n",
       "      <th>Adj Close</th>\n",
       "      <th>Volume</th>\n",
       "    </tr>\n",
       "    <tr>\n",
       "      <th>Date</th>\n",
       "      <th></th>\n",
       "      <th></th>\n",
       "      <th></th>\n",
       "      <th></th>\n",
       "      <th></th>\n",
       "      <th></th>\n",
       "    </tr>\n",
       "  </thead>\n",
       "  <tbody>\n",
       "    <tr>\n",
       "      <th>2012-03-12</th>\n",
       "      <td>759.429993</td>\n",
       "      <td>760.619995</td>\n",
       "      <td>756.840027</td>\n",
       "      <td>759.130005</td>\n",
       "      <td>759.130005</td>\n",
       "      <td>0</td>\n",
       "    </tr>\n",
       "    <tr>\n",
       "      <th>2012-03-13</th>\n",
       "      <td>761.450012</td>\n",
       "      <td>773.030029</td>\n",
       "      <td>761.450012</td>\n",
       "      <td>772.979980</td>\n",
       "      <td>772.979980</td>\n",
       "      <td>0</td>\n",
       "    </tr>\n",
       "    <tr>\n",
       "      <th>2012-03-14</th>\n",
       "      <td>773.190002</td>\n",
       "      <td>774.679993</td>\n",
       "      <td>769.280029</td>\n",
       "      <td>771.630005</td>\n",
       "      <td>771.630005</td>\n",
       "      <td>0</td>\n",
       "    </tr>\n",
       "    <tr>\n",
       "      <th>2012-03-15</th>\n",
       "      <td>772.380005</td>\n",
       "      <td>776.469971</td>\n",
       "      <td>770.739990</td>\n",
       "      <td>776.419983</td>\n",
       "      <td>776.419983</td>\n",
       "      <td>0</td>\n",
       "    </tr>\n",
       "    <tr>\n",
       "      <th>2012-03-16</th>\n",
       "      <td>776.559998</td>\n",
       "      <td>778.099976</td>\n",
       "      <td>775.640015</td>\n",
       "      <td>777.130005</td>\n",
       "      <td>777.130005</td>\n",
       "      <td>0</td>\n",
       "    </tr>\n",
       "    <tr>\n",
       "      <th>2012-03-19</th>\n",
       "      <td>777.119995</td>\n",
       "      <td>782.549988</td>\n",
       "      <td>776.070007</td>\n",
       "      <td>780.090027</td>\n",
       "      <td>780.090027</td>\n",
       "      <td>0</td>\n",
       "    </tr>\n",
       "    <tr>\n",
       "      <th>2012-03-20</th>\n",
       "      <td>778.030029</td>\n",
       "      <td>778.299988</td>\n",
       "      <td>773.119995</td>\n",
       "      <td>777.369995</td>\n",
       "      <td>777.369995</td>\n",
       "      <td>0</td>\n",
       "    </tr>\n",
       "    <tr>\n",
       "      <th>2012-03-21</th>\n",
       "      <td>777.559998</td>\n",
       "      <td>778.650024</td>\n",
       "      <td>774.760010</td>\n",
       "      <td>776.150024</td>\n",
       "      <td>776.150024</td>\n",
       "      <td>0</td>\n",
       "    </tr>\n",
       "    <tr>\n",
       "      <th>2012-03-22</th>\n",
       "      <td>773.640015</td>\n",
       "      <td>773.640015</td>\n",
       "      <td>768.000000</td>\n",
       "      <td>770.270020</td>\n",
       "      <td>770.270020</td>\n",
       "      <td>0</td>\n",
       "    </tr>\n",
       "    <tr>\n",
       "      <th>2012-03-23</th>\n",
       "      <td>770.650024</td>\n",
       "      <td>774.010010</td>\n",
       "      <td>766.869995</td>\n",
       "      <td>772.929993</td>\n",
       "      <td>772.929993</td>\n",
       "      <td>0</td>\n",
       "    </tr>\n",
       "  </tbody>\n",
       "</table>\n",
       "</div>"
      ],
      "text/plain": [
       "                  Open        High         Low       Close   Adj Close  Volume\n",
       "Date                                                                          \n",
       "2012-03-12  759.429993  760.619995  756.840027  759.130005  759.130005       0\n",
       "2012-03-13  761.450012  773.030029  761.450012  772.979980  772.979980       0\n",
       "2012-03-14  773.190002  774.679993  769.280029  771.630005  771.630005       0\n",
       "2012-03-15  772.380005  776.469971  770.739990  776.419983  776.419983       0\n",
       "2012-03-16  776.559998  778.099976  775.640015  777.130005  777.130005       0\n",
       "2012-03-19  777.119995  782.549988  776.070007  780.090027  780.090027       0\n",
       "2012-03-20  778.030029  778.299988  773.119995  777.369995  777.369995       0\n",
       "2012-03-21  777.559998  778.650024  774.760010  776.150024  776.150024       0\n",
       "2012-03-22  773.640015  773.640015  768.000000  770.270020  770.270020       0\n",
       "2012-03-23  770.650024  774.010010  766.869995  772.929993  772.929993       0"
      ]
     },
     "execution_count": 1,
     "metadata": {},
     "output_type": "execute_result"
    }
   ],
   "source": [
    "import numpy as np\n",
    "import matplotlib.pyplot as plt\n",
    "import pandas as pd\n",
    "import yfinance as yf\n",
    "#import pandas_ta as ta\n",
    "data = yf.download(tickers = '^RUI', start = '2012-03-11',end = '2022-07-10')\n",
    "data.head(10)"
   ]
  },
  {
   "cell_type": "code",
   "execution_count": 2,
   "id": "68e700e1",
   "metadata": {
    "colab": {
     "base_uri": "https://localhost:8080/"
    },
    "id": "68e700e1",
    "outputId": "4e517939-6cdb-4549-ae95-82cb8faa439b"
   },
   "outputs": [
    {
     "name": "stderr",
     "output_type": "stream",
     "text": [
      "/var/folders/xt/1mczr1b13kdcdq3krysb29x80000gn/T/ipykernel_58763/1707332387.py:31: PerformanceWarning: DataFrame is highly fragmented.  This is usually the result of calling `frame.insert` many times, which has poor performance.  Consider joining all columns at once using pd.concat(axis=1) instead. To get a de-fragmented frame, use `newframe = frame.copy()`\n",
      "  daysago['{}dayago'.format(i)] = sp500['Close'].shift(i)\n",
      "/var/folders/xt/1mczr1b13kdcdq3krysb29x80000gn/T/ipykernel_58763/1707332387.py:31: PerformanceWarning: DataFrame is highly fragmented.  This is usually the result of calling `frame.insert` many times, which has poor performance.  Consider joining all columns at once using pd.concat(axis=1) instead. To get a de-fragmented frame, use `newframe = frame.copy()`\n",
      "  daysago['{}dayago'.format(i)] = sp500['Close'].shift(i)\n"
     ]
    },
    {
     "data": {
      "text/plain": [
       "(8678, 102)"
      ]
     },
     "execution_count": 2,
     "metadata": {},
     "output_type": "execute_result"
    }
   ],
   "source": [
    "# Adding indicators\n",
    "#data['RSI']=ta.rsi(data.Close, length=15)\n",
    "#data['EMAF']=ta.ema(data.Close, length=20)\n",
    "#data['EMAM']=ta.ema(data.Close, length=100)\n",
    "#data['EMAS']=ta.ema(data.Close, length=150)\n",
    "\n",
    "#data['Target'] = data['Adj Close']-data.Open\n",
    "#data['Target'] = data['Target'].shift(-1)\n",
    "\n",
    "#data['TargetClass'] = [1 if data.Target[i]>0 else 0 for i in range(len(data))]\n",
    "\n",
    "#data['TargetNextClose'] = data['Adj Close'].shift(-1)\n",
    "\n",
    "#data.dropna(inplace=True)\n",
    "#data.reset_index(inplace = True)\n",
    "#data.drop(['Volume', 'Close', 'Date'], axis=1, inplace=True)\n",
    "sp500  = yf.Ticker(\"^GSPC\")\n",
    "sp500 = sp500.history(period='max')\n",
    "\n",
    "#sp500.plot.line(y='Close',use_index=True)\n",
    "\n",
    "del sp500['Dividends']\n",
    "del sp500['Stock Splits']\n",
    "del sp500['Open']\n",
    "del sp500['High']\n",
    "del sp500['Low']\n",
    "del sp500['Volume']\n",
    "\n",
    "daysago = pd.DataFrame(dtype=object)\n",
    "for i in range(100,-2,-1):\n",
    "  daysago['{}dayago'.format(i)] = sp500['Close'].shift(i)\n",
    "\n",
    "del sp500['Close']\n",
    "data = pd.concat([sp500, daysago], axis=1)\n",
    "data.head(10)\n",
    "\n",
    "data = data.loc['1990-01-01':].copy()\n",
    "data = data.drop(index=data.tail(1).index)\n",
    "data.tail(5)\n",
    "data.shape"
   ]
  },
  {
   "cell_type": "code",
   "execution_count": 3,
   "id": "a2b0e972",
   "metadata": {
    "colab": {
     "base_uri": "https://localhost:8080/"
    },
    "id": "a2b0e972",
    "outputId": "751a02f2-b8de-4757-abab-ba38a706b6d7"
   },
   "outputs": [
    {
     "name": "stdout",
     "output_type": "stream",
     "text": [
      "(8678, 102)\n"
     ]
    }
   ],
   "source": [
    "data_set = data#.iloc[:, 0:101]#.values\n",
    "pd.set_option('display.max_columns', None)\n",
    "\n",
    "#print(data_set.head(20))\n",
    "print(data_set.shape)\n",
    "#print(data.shape)\n",
    "#print(type(data_set))"
   ]
  },
  {
   "cell_type": "code",
   "execution_count": 4,
   "id": "eb3a2c0c",
   "metadata": {
    "id": "eb3a2c0c"
   },
   "outputs": [],
   "source": [
    "#Target column Categories\n",
    "#y =[1 if data.Open[i]>data.Close[i] else 0 for i in range(0, len(data))]\n",
    "#yi = [data.Open[i]-data.Close[i] for i in range(0, len(data))]\n",
    "#print(yi)\n",
    "#print(len(yi))"
   ]
  },
  {
   "cell_type": "code",
   "execution_count": 5,
   "id": "b9d38e4c",
   "metadata": {
    "colab": {
     "base_uri": "https://localhost:8080/"
    },
    "id": "b9d38e4c",
    "outputId": "0669c437-260e-42f6-cdd6-7e5b03c1a05e"
   },
   "outputs": [
    {
     "name": "stdout",
     "output_type": "stream",
     "text": [
      "[[0.01132836 0.01158954 0.0107854  ... 0.01140583 0.01253129 0.01233796]\n",
      " [0.01161662 0.01081895 0.01041772 ... 0.01264405 0.01234985 0.01173568]\n",
      " [0.01084423 0.01045012 0.01077883 ... 0.01246098 0.01174699 0.01105933]\n",
      " ...\n",
      " [0.9778626  0.98474409 0.99457446 ... 0.99442316 0.98824721 0.99012761]\n",
      " [0.98704543 0.99766846 0.99689878 ... 0.99713973 0.99108197 0.99903705]\n",
      " [1.         1.         1.         ... 1.         1.         1.        ]]\n"
     ]
    }
   ],
   "source": [
    "from sklearn.preprocessing import MinMaxScaler\n",
    "sc = MinMaxScaler(feature_range=(0,1))\n",
    "data_set_scaled = sc.fit_transform(data_set)\n",
    "print(data_set_scaled)"
   ]
  },
  {
   "cell_type": "code",
   "execution_count": 6,
   "id": "99ca74fd",
   "metadata": {
    "colab": {
     "base_uri": "https://localhost:8080/"
    },
    "id": "99ca74fd",
    "outputId": "2815b3a5-cfb7-4328-a1e9-b2485a22e0a9",
    "scrolled": true
   },
   "outputs": [
    {
     "name": "stdout",
     "output_type": "stream",
     "text": [
      "[[[0.01132836 0.01158954 0.0107854  ... 0.01140583 0.01253129 0.01233796]\n",
      "  [0.01161662 0.01081895 0.01041772 ... 0.01264405 0.01234985 0.01173568]\n",
      "  [0.01084423 0.01045012 0.01077883 ... 0.01246098 0.01174699 0.01105933]\n",
      "  ...\n",
      "  [0.01112811 0.00992543 0.01000845 ... 0.01020698 0.01035397 0.00866775]\n",
      "  [0.00994862 0.01003959 0.01077665 ... 0.01044714 0.00867611 0.00809666]\n",
      "  [0.01006305 0.01081017 0.01226927 ... 0.00875418 0.00810447 0.00882758]]\n",
      "\n",
      " [[0.01161662 0.01081895 0.01041772 ... 0.01264405 0.01234985 0.01173568]\n",
      "  [0.01084423 0.01045012 0.01077883 ... 0.01246098 0.01174699 0.01105933]\n",
      "  [0.01047455 0.01081236 0.01098675 ... 0.01185269 0.01106999 0.01136924]\n",
      "  ...\n",
      "  [0.00994862 0.01003959 0.01077665 ... 0.01044714 0.00867611 0.00809666]\n",
      "  [0.01006305 0.01081017 0.01226927 ... 0.00875418 0.00810447 0.00882758]\n",
      "  [0.01083544 0.01230743 0.01205041 ... 0.00817739 0.00883609 0.00817463]]\n",
      "\n",
      " [[0.01084423 0.01045012 0.01077883 ... 0.01246098 0.01174699 0.01105933]\n",
      "  [0.01047455 0.01081236 0.01098675 ... 0.01185269 0.01106999 0.01136924]\n",
      "  [0.01083763 0.01102093 0.01072193 ... 0.0111696  0.0113802  0.01055646]\n",
      "  ...\n",
      "  [0.01006305 0.01081017 0.01226927 ... 0.00875418 0.00810447 0.00882758]\n",
      "  [0.01083544 0.01230743 0.01205041 ... 0.00817739 0.00883609 0.00817463]\n",
      "  [0.0123362  0.01208789 0.01239402 ... 0.0089156  0.00818251 0.00832861]]\n",
      "\n",
      " ...\n",
      "\n",
      " [[0.97865922 0.9680305  0.96149824 ... 0.97884194 0.97730797 0.97662412]\n",
      "  [0.97029278 0.96448934 0.96337169 ... 0.98610206 0.97756547 0.96900503]\n",
      "  [0.96674334 0.96636862 0.97788204 ... 0.98636187 0.96993903 0.96287109]\n",
      "  ...\n",
      "  [0.98689145 0.98537859 0.97841604 ... 0.98346805 0.98692828 0.9857694 ]\n",
      "  [0.98768141 0.98145977 0.97255717 ... 0.99580893 0.98671956 0.98460582]\n",
      "  [0.98375344 0.97558267 0.98169017 ... 0.99559833 0.98555486 0.98729558]]\n",
      "\n",
      " [[0.97029278 0.96448934 0.96337169 ... 0.98610206 0.97756547 0.96900503]\n",
      "  [0.96674334 0.96636862 0.97788204 ... 0.98636187 0.96993903 0.96287109]\n",
      "  [0.96862702 0.9809241  0.97634126 ... 0.97866681 0.96379918 0.97106322]\n",
      "  ...\n",
      "  [0.98768141 0.98145977 0.97255717 ... 0.99580893 0.98671956 0.98460582]\n",
      "  [0.98375344 0.97558267 0.98169017 ... 0.99559833 0.98555486 0.98729558]\n",
      "  [0.9778626  0.98474409 0.99457446 ... 0.99442316 0.98824721 0.99012761]]\n",
      "\n",
      " [[0.96674334 0.96636862 0.97788204 ... 0.98636187 0.96993903 0.96287109]\n",
      "  [0.96862702 0.9809241  0.97634126 ... 0.97866681 0.96379918 0.97106322]\n",
      "  [0.98321652 0.97937853 0.98223957 ... 0.97247171 0.97199921 0.97221128]\n",
      "  ...\n",
      "  [0.98375344 0.97558267 0.98169017 ... 0.99559833 0.98555486 0.98729558]\n",
      "  [0.9778626  0.98474409 0.99457446 ... 0.99442316 0.98824721 0.99012761]\n",
      "  [0.98704543 0.99766846 0.99689878 ... 0.99713973 0.99108197 0.99903705]]]\n",
      "(8668, 10, 102)\n",
      "[[0.00817463]\n",
      " [0.00832861]\n",
      " [0.00851572]\n",
      " ...\n",
      " [0.99012761]\n",
      " [0.99903705]\n",
      " [1.        ]]\n",
      "(8668, 1)\n"
     ]
    }
   ],
   "source": [
    "# multiple feature from data provided to the model\n",
    "X = []\n",
    "#print(data_set_scaled[0].size)\n",
    "#data_set_scaled=data_set.values\n",
    "backcandles = 10\n",
    "#print(data_set_scaled.shape[0])\n",
    "for j in range(102):#data_set_scaled[0].size):#2 columns are target not X\n",
    "    X.append([])\n",
    "    for i in range(backcandles, data_set_scaled.shape[0]):#backcandles+2\n",
    "        X[j].append(data_set_scaled[i-backcandles:i, j])\n",
    "\n",
    "#move axis from 0 to position 2\n",
    "X=np.moveaxis(X, [0], [2])\n",
    "#print(X)\n",
    "#Erase first elements of y because of backcandles to match X length\n",
    "#del(yi[0:backcandles])\n",
    "#X, yi = np.array(X), np.array(yi)\n",
    "# Choose -1 for last column, classification else -2...\n",
    "X, yi =np.array(X), np.array(data_set_scaled[backcandles:,-1])\n",
    "y=np.reshape(yi,(len(yi),1))\n",
    "#y=sc.fit_transform(yi)\n",
    "#X_train = np.reshape(X_train, (X_train.shape[0], X_train.shape[1], 1))\n",
    "print(X)\n",
    "print(X.shape)\n",
    "print(y)\n",
    "print(y.shape)"
   ]
  },
  {
   "cell_type": "code",
   "execution_count": 7,
   "id": "c01b699a",
   "metadata": {
    "id": "c01b699a"
   },
   "outputs": [],
   "source": [
    "#also comprehensions for X\n",
    "#X = np.array([data_set_scaled[i-backcandles:i,:4].copy() for i in range(backcandles,len(data_set_scaled))])\n",
    "#print(X)\n",
    "#print(X.shape)"
   ]
  },
  {
   "cell_type": "code",
   "execution_count": 8,
   "id": "a2a87918",
   "metadata": {
    "colab": {
     "base_uri": "https://localhost:8080/"
    },
    "id": "a2a87918",
    "outputId": "ff6c60d9-4872-4fc9-eb3d-75449f4df8a4"
   },
   "outputs": [
    {
     "name": "stdout",
     "output_type": "stream",
     "text": [
      "6934\n",
      "(6934, 10, 102)\n",
      "(1734, 10, 102)\n",
      "(6934, 1)\n",
      "(1734, 1)\n",
      "[[0.00817463]\n",
      " [0.00832861]\n",
      " [0.00851572]\n",
      " ...\n",
      " [0.42451722]\n",
      " [0.42433987]\n",
      " [0.42382723]]\n"
     ]
    }
   ],
   "source": [
    "# split data into train test sets\n",
    "splitlimit = int(len(X)*0.8)\n",
    "print(splitlimit)\n",
    "X_train, X_test = X[:splitlimit], X[splitlimit:]\n",
    "y_train, y_test = y[:splitlimit], y[splitlimit:]\n",
    "print(X_train.shape)\n",
    "print(X_test.shape)\n",
    "print(y_train.shape)\n",
    "print(y_test.shape)\n",
    "print(y_train)"
   ]
  },
  {
   "cell_type": "code",
   "execution_count": null,
   "id": "9867161a",
   "metadata": {
    "colab": {
     "base_uri": "https://localhost:8080/"
    },
    "id": "9867161a",
    "outputId": "579fd620-e782-45e7-d5d8-09bb6043f298"
   },
   "outputs": [],
   "source": [
    "#!pip install optree\n",
    "#!pip install keras\n",
    "#import optree\n",
    "import keras\n",
    "from keras.models import Sequential\n",
    "from keras.layers import LSTM\n",
    "from keras.layers import Dropout\n",
    "from keras.layers import Dense\n",
    "from keras.layers import TimeDistributed\n",
    "\n",
    "import tensorflow as tf\n",
    "\n",
    "from keras import optimizers\n",
    "from keras.callbacks import History\n",
    "from keras.models import Model\n",
    "from keras.layers import Dense, Dropout, LSTM, Input, Activation, concatenate\n",
    "import numpy as np\n",
    "#tf.random.set_seed(20)\n",
    "np.random.seed(10)\n",
    "\n",
    "lstm_input = Input(shape=(backcandles, 102), name='lstm_input')\n",
    "inputs = LSTM(150, name='first_layer')(lstm_input)\n",
    "inputs = Dense(1, name='dense_layer')(inputs)\n",
    "output = Activation('linear', name='output')(inputs)\n",
    "model = Model(inputs=lstm_input, outputs=output)\n",
    "adam = optimizers.Adam()\n",
    "model.compile(optimizer=adam, loss='mse')\n",
    "model.fit(x=X_train, y=y_train, batch_size=15, epochs=30, shuffle=True, validation_split = 0.1)"
   ]
  },
  {
   "cell_type": "code",
   "execution_count": null,
   "id": "08324ede",
   "metadata": {
    "colab": {
     "base_uri": "https://localhost:8080/"
    },
    "id": "08324ede",
    "outputId": "60b9e72c-2a3a-4d38-b834-4201995ebd23"
   },
   "outputs": [],
   "source": [
    "y_pred = model.predict(X_test)\n",
    "#y_pred=np.where(y_pred > 0.43, 1,0)\n",
    "for i in range(10):\n",
    "    print(y_pred[i], y_test[i])"
   ]
  },
  {
   "cell_type": "code",
   "execution_count": null,
   "id": "67f5e31a",
   "metadata": {
    "colab": {
     "base_uri": "https://localhost:8080/",
     "height": 607
    },
    "id": "67f5e31a",
    "outputId": "ce19afdb-7926-4247-b4b9-9da02ae5648c"
   },
   "outputs": [],
   "source": [
    "plt.figure(figsize=(16,8))\n",
    "plt.plot(y_test, color = 'black', label = 'Test')\n",
    "plt.plot(y_pred, color = 'green', label = 'pred')\n",
    "plt.legend()\n",
    "plt.show()"
   ]
  },
  {
   "cell_type": "code",
   "execution_count": null,
   "id": "18555402",
   "metadata": {
    "colab": {
     "base_uri": "https://localhost:8080/"
    },
    "id": "18555402",
    "outputId": "03aa9742-8a3d-499b-ddb9-91817a213dc1"
   },
   "outputs": [],
   "source": [
    "avg_error = (np.sum(np.sqrt((y_test - y_pred)**2)))/len(y_test)*100\n",
    "print(np.sum(np.sqrt((y_test - y_pred)**2)))\n",
    "print(y_test, y_pred)\n",
    "avg_error\n"
   ]
  },
  {
   "cell_type": "code",
   "execution_count": null,
   "id": "nFpN_ryV5I4u",
   "metadata": {
    "colab": {
     "base_uri": "https://localhost:8080/"
    },
    "id": "nFpN_ryV5I4u",
    "outputId": "806ebb85-0a76-42a0-c164-bdccc95b25d9"
   },
   "outputs": [],
   "source": [
    "avg_error_array = []\n",
    "backcandle_avg_array = []\n",
    "for backcandles in range(1,10):\n",
    "    for i in range(1,5): \n",
    "      X = []\n",
    "      for j in range(102):#data_set_scaled[0].size):#2 columns are target not X\n",
    "        X.append([])\n",
    "        for i in range(backcandles, data_set_scaled.shape[0]):#backcandles+2\n",
    "            X[j].append(data_set_scaled[i-backcandles:i, j])\n",
    "      X=np.moveaxis(X, [0], [2])\n",
    "      X, yi =np.array(X), np.array(data_set_scaled[backcandles:,-1])\n",
    "      y=np.reshape(yi,(len(yi),1))\n",
    "      splitlimit = int(len(X)*0.8)\n",
    "      X_train, X_test = X[:splitlimit], X[splitlimit:]\n",
    "      y_train, y_test = y[:splitlimit], y[splitlimit:]\n",
    "      lstm_input = Input(shape=(backcandles, 102), name='lstm_input')\n",
    "      inputs = LSTM(150, name='first_layer')(lstm_input)\n",
    "      inputs = Dense(1, name='dense_layer')(inputs)\n",
    "      output = Activation('linear', name='output')(inputs)\n",
    "      model = Model(inputs=lstm_input, outputs=output)\n",
    "      adam = optimizers.Adam()\n",
    "      model.compile(optimizer=adam, loss='mse')\n",
    "      model.fit(x=X_train, y=y_train, batch_size=15, epochs=30, shuffle=True, validation_split = 0.1)\n",
    "      y_pred = model.predict(X_test)\n",
    "      avg_error = (np.sum(np.sqrt((y_test - y_pred)**2)))/len(y_test)*100\n",
    "      avg_error_array.append(avg_error)\n",
    "    backcandle_avg = np.mean(avg_error_array)\n",
    "    backcandle_avg_array.append(backcandle_avg)\n",
    "    \n",
    "print(backcandle_avg_array)"
   ]
  },
  {
   "cell_type": "markdown",
   "id": "071dd5d5",
   "metadata": {},
   "source": []
  },
  {
   "cell_type": "code",
   "execution_count": null,
   "id": "8c07b4de",
   "metadata": {},
   "outputs": [],
   "source": [
    "plt.plot(backcandle_avg_array)\n"
   ]
  },
  {
   "cell_type": "code",
   "execution_count": null,
   "id": "388469e2",
   "metadata": {},
   "outputs": [],
   "source": [
    "hardcode_array = [6.671783194915661, 9.747046629233619, 2.5436865895092473, 4.676847428775324, 1.6453430352434466, 1.4854276721271327, 2.554387954102473, 1.6998273906142016, 0.7655917903743081, 1.0623174429617726, 0.6723523368971414, 5.05866365308429, 1.1328844833828045, 0.8811976218670227, 2.423009022976239, 1.284364392889646, 0.7885525280621829, 8.701979171229018, 2.6289916833316087, 1.0716338560636982, 1.166775497791495, 1.579368047395737, 0.9766534920487282, 1.5712059023742522, 5.24098087348706, 2.1303520731199947, 10.674838075633915, 6.1601257556988065, 2.1558035105930338, 5.3431876851206495, 9.932915505572625, 2.954759124932127, 2.581878897020912, 4.515021072582514, 1.9456635276936234, 2.2598907564094612, 2.1060121737844857, 2.472736419066114, 4.349664804811232, 3.8137648209633217, 4.26649540444255, 1.9243753160367305, 3.8949327803558385, 3.8063781338364904, 2.2300966191497076, 1.8304886753600476, 1.8926813464436452, 3.3239644575616394, 2.451378057485158, 3.352520307229817, 1.8150312157252717, 3.3196082917046095, 1.358421988969335, 2.705167275165877, 2.349108785446472, 2.347180309744397, 1.6944992371198433, 1.3984646612200269, 1.3871914590024628, 2.7025187935076067, 2.790507147003722, 3.5900310781974976, 2.454281809769362, 4.7496788919652415, 4.879788259138375, 2.025398546503378, 4.049790731754018, 3.8777450946955083, 6.422102515577564, 4.771600525912777, 1.6922410304889797, 1.4219582680925729, 7.385366698171938, 2.161851228136155, 2.5802676709286785, 1.1396714515947344, 4.531176673170552, 4.380903314038609, 6.867057132060515, 4.91471498795782, 2.518849123756857, 3.3542148767247113, 4.628767963546694, 3.393964871037855, 6.021193534315417, 2.426945081529201, 2.1142730503130647, 8.89981647234929, 1.4904735004164276, 1.6149182097547632, 3.59210935699335, 1.8022856589592435, 2.3703681345603105, 3.0587337904743688, 1.8640514795168044, 2.1333566939581603, 3.563470069592626, 0.8116500674465412, 3.510246504643754]\n",
    "print(min(hardcode_array))\n",
    "hardcode_array.index(0.6723523368971414)"
   ]
  }
 ],
 "metadata": {
  "colab": {
   "provenance": []
  },
  "kernelspec": {
   "display_name": "BetterMacBookKernel",
   "language": "python",
   "name": "bettermacbookkernel"
  },
  "language_info": {
   "codemirror_mode": {
    "name": "ipython",
    "version": 3
   },
   "file_extension": ".py",
   "mimetype": "text/x-python",
   "name": "python",
   "nbconvert_exporter": "python",
   "pygments_lexer": "ipython3",
   "version": "3.9.12"
  }
 },
 "nbformat": 4,
 "nbformat_minor": 5
}
