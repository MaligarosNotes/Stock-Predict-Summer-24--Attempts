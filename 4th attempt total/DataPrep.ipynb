{
 "cells": [
  {
   "cell_type": "code",
   "execution_count": 10,
   "metadata": {},
   "outputs": [],
   "source": [
    "import numpy as np\n",
    "import pandas as pd\n",
    "import matplotlib as plt\n",
    "import yfinance as yf\n",
    "import keras \n",
    "import os\n",
    "import datetime \n",
    "from sklearn.preprocessing import MinMaxScaler"
   ]
  },
  {
   "cell_type": "code",
   "execution_count": 28,
   "metadata": {},
   "outputs": [
    {
     "name": "stdout",
     "output_type": "stream",
     "text": [
      "(9702, 221, 1)\n"
     ]
    }
   ],
   "source": [
    "def addStdDev(df,IV=1,daysago=100):\n",
    "    dfstddev = pd.DataFrame()\n",
    "    dfstddev['daysago# std'] = df.iloc[:,:daysago+1].std(axis=1)\n",
    "    for i in range(1,IV):\n",
    "        dfstddev['1/{} of daysago# std'.format(i)] = df.iloc[:,daysago-(daysago//i):daysago+1].std(axis=1)\n",
    "    sc = MinMaxScaler(feature_range=(0,1))\n",
    "    stddev_scaled = sc.fit_transform(dfstddev)\n",
    "    return stddev_scaled, dfstddev\n",
    "\n",
    "def TickerIntoTensor(ticker='aapl',daysago=100,daysforward=1,split_percentage=0.9,IV=1):\n",
    "    df = yf.Ticker(ticker.upper())\n",
    "    df = df.history(period='max')\n",
    "    if df.shape[1] == 7:\n",
    "        df = df.drop(columns=['Dividends','Stock Splits'])\n",
    "    df = df.drop(columns=['Open','High','Low','Volume'])\n",
    "    for i in range(daysago,-daysforward-1,-1):\n",
    "        df['{}daysago'.format(i)] = df['Close'].shift(i)\n",
    "        df = df.copy()\n",
    "    df = df.drop(columns=['Close'])\n",
    "    df = df.drop(index=df.tail(daysforward).index)\n",
    "    df = df.drop(index=df.head(daysago).index)\n",
    "\n",
    "\n",
    "\n",
    "    if IV == 0:\n",
    "        literally_useless = 0\n",
    "    else:\n",
    "        tempSTDDEV = addStdDev(df,IV,daysago)\n",
    "        stddev_scaled = tempSTDDEV[0]\n",
    "        dfstddev = tempSTDDEV[1]\n",
    "\n",
    "\n",
    "\n",
    "    sc = MinMaxScaler(feature_range=(0,1))\n",
    "    df_scaled = sc.fit_transform(df)\n",
    "    X,Y = df_scaled[:,:daysago+1],df_scaled[:,-daysforward:]\n",
    "    if split_percentage <= 1 and split_percentage >= 0:\n",
    "        split = int(len(X)*split_percentage)\n",
    "    else:\n",
    "        split = split_percentage\n",
    "    X_train, X_test, Y_train, Y_test = X[:split], X[split:], Y[:split], Y[split:]\n",
    "    X_train, X_test = np.append(stddev_scaled[:split],X_train,axis=1), np.append(stddev_scaled[split:],X_test,axis=1)\n",
    "    X_train, X_test, Y_train, Y_test = X_train.reshape((-1,daysago+1+dfstddev.shape[1],1)), X_test.reshape((-1,daysago+1+dfstddev.shape[1],1)), Y_train.reshape((-1,daysforward)), Y_test.reshape((-1,daysforward))\n",
    "\n",
    "    return X_train, X_test, Y_train, Y_test\n",
    "print(TickerIntoTensor('aapl',200,1,0.9,20)[0].shape)\n"
   ]
  },
  {
   "cell_type": "code",
   "execution_count": null,
   "metadata": {},
   "outputs": [],
   "source": []
  },
  {
   "cell_type": "code",
   "execution_count": null,
   "metadata": {},
   "outputs": [],
   "source": []
  }
 ],
 "metadata": {
  "kernelspec": {
   "display_name": ".venv",
   "language": "python",
   "name": "python3"
  },
  "language_info": {
   "codemirror_mode": {
    "name": "ipython",
    "version": 3
   },
   "file_extension": ".py",
   "mimetype": "text/x-python",
   "name": "python",
   "nbconvert_exporter": "python",
   "pygments_lexer": "ipython3",
   "version": "3.12.4"
  }
 },
 "nbformat": 4,
 "nbformat_minor": 2
}
