{
 "cells": [
  {
   "cell_type": "code",
   "execution_count": 1,
   "id": "7d680d8a",
   "metadata": {},
   "outputs": [],
   "source": [
    "import numpy as np\n",
    "import pandas as pd\n",
    "import matplotlib as plt\n",
    "import torch \n",
    "import torch.nn as nn\n",
    "import yfinance as yf\n",
    "import keras \n",
    "import tensorflow\n",
    "import datetime \n",
    "from sklearn.preprocessing import MinMaxScaler\n",
    "from torch.utils.data import Dataset\n",
    "from torch.utils.data import DataLoader\n",
    "device = 'cuda:0' if torch.cuda.is_available() else 'cpu'"
   ]
  },
  {
   "cell_type": "code",
   "execution_count": 2,
   "id": "addbd38c",
   "metadata": {},
   "outputs": [],
   "source": [
    "def TickerIntoTensor(ticker,daysago,split_percentage):\n",
    "    df = yf.Ticker(ticker.upper())\n",
    "    df = df.history(period='max')\n",
    "    df = df.drop(columns=['Open','High','Low','Volume','Dividends','Stock Splits'])\n",
    "    for i in range(daysago,-2,-1):\n",
    "        df['{}daysago'.format(i)] = df['Close'].shift(i)\n",
    "        df = df.copy()\n",
    "    df = df.drop(columns=['Close'])\n",
    "    df = df.drop(index=df.tail(1).index)\n",
    "    df = df.drop(index=df.head(daysago).index)\n",
    "    sc = MinMaxScaler(feature_range=(0,1))\n",
    "    df_scaled = sc.fit_transform(df)\n",
    "    X,Y = df_scaled[:,:daysago+1],df_scaled[:,-1]\n",
    "    split = int(len(X)*split_percentage)\n",
    "    X_train, X_test, Y_train, Y_test = X[:split], X[split:], Y[:split], Y[split:]\n",
    "    X_train, X_test, Y_train, Y_test = X_train.reshape((-1,daysago+1,1)), X_test.reshape((-1,daysago+1,1)), Y_train.reshape((-1,1)), Y_test.reshape((-1,1))\n",
    "    X_train, X_test, Y_train, Y_test = torch.tensor(X_train).float(), torch.tensor(X_test).float(), torch.tensor(Y_train).float(), torch.tensor(Y_test).float()\n",
    "    return X_train, X_test, Y_train, Y_test \n",
    "\n"
   ]
  },
  {
   "cell_type": "code",
   "execution_count": 3,
   "id": "f1bb254e",
   "metadata": {},
   "outputs": [],
   "source": [
    "class TensorIntoDataset(Dataset):\n",
    "    def __init__(self,a,b):\n",
    "        self.a = a\n",
    "        self.b = b\n",
    "    def __len__(self):\n",
    "        return len(self.a)\n",
    "    def __getitem__(self,i):\n",
    "        return self.a[i],self.b[i]\n",
    "\n",
    "def TensorIntoDataLoader(ticker='aapl',daysago=100,split_percentage=0.8,batchsize=15):\n",
    "    e = TickerIntoTensor(ticker,daysago,split_percentage)  \n",
    "    train_dataset = TensorIntoDataset(e[0],e[2])\n",
    "    test_dataset = TensorIntoDataset(e[1],e[3])\n",
    "    train_loader = DataLoader(train_dataset, batch_size = batchsize, shuffle = True) \n",
    "    test_loader = DataLoader(test_dataset, batch_size = batchsize, shuffle = False)\n",
    "    return train_loader,test_loader\n",
    "\n",
    "TensorIntoDataLoader('aapl',100,0.85,20)\n",
    "#for _, batch in enumerate(train_loader):\n",
    "#    x_batch, y_batch = batch[0].to(device),batch[1].to(device)\n",
    "#    print(x_batch.shape, y_batch.shape)\n",
    "#    break\n",
    "\n",
    "ListOfTickers = ['aapl','goog','^gspc']\n",
    "ListOfTickersData = []\n",
    "for ticker in ListOfTickers:\n",
    "    e = TensorIntoDataLoader(ticker)\n",
    "    ListOfTickersData.append(e)"
   ]
  },
  {
   "cell_type": "code",
   "execution_count": 4,
   "id": "2768df33",
   "metadata": {},
   "outputs": [],
   "source": [
    "class LSTM(nn.Module):\n",
    "    def __init__(self, input_size, hidden_size, num_stacked_layers):\n",
    "        super().__init__()\n",
    "        self.hidden_size = hidden_size\n",
    "        self.num_stacked_layers = num_stacked_layers\n",
    "\n",
    "        self.lstm = nn.LSTM(input_size, hidden_size, num_stacked_layers, \n",
    "                            batch_first=True)\n",
    "        \n",
    "        self.fc = nn.Linear(hidden_size, 1)\n",
    "\n",
    "    def forward(self, x):\n",
    "        batch_size = x.size(0)\n",
    "        h0 = torch.zeros(self.num_stacked_layers, batch_size, self.hidden_size).to(device)\n",
    "        c0 = torch.zeros(self.num_stacked_layers, batch_size, self.hidden_size).to(device)\n",
    "        \n",
    "        out, _ = self.lstm(x, (h0, c0))\n",
    "        out = self.fc(out[:, -1, :])\n",
    "        return out"
   ]
  },
  {
   "cell_type": "code",
   "execution_count": null,
   "id": "4b6a7818",
   "metadata": {},
   "outputs": [],
   "source": []
  }
 ],
 "metadata": {
  "kernelspec": {
   "display_name": ".venv",
   "language": "python",
   "name": "python3"
  },
  "language_info": {
   "codemirror_mode": {
    "name": "ipython",
    "version": 3
   },
   "file_extension": ".py",
   "mimetype": "text/x-python",
   "name": "python",
   "nbconvert_exporter": "python",
   "pygments_lexer": "ipython3",
   "version": "3.12.4"
  }
 },
 "nbformat": 4,
 "nbformat_minor": 5
}
